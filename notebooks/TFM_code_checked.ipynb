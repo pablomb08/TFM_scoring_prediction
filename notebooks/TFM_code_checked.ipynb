{
 "cells": [
  {
   "cell_type": "code",
   "execution_count": 2,
   "metadata": {},
   "outputs": [
    {
     "name": "stdout",
     "output_type": "stream",
     "text": [
      "Populating the interactive namespace from numpy and matplotlib\n"
     ]
    }
   ],
   "source": [
    "# Se importan los paquetes necesarios:\n",
    "\n",
    "import pandas as pd\n",
    "import numpy as np\n",
    "import os\n",
    "import re\n",
    "import seaborn as sns\n",
    "import matplotlib.pyplot as plt\n",
    "import math\n",
    "from dateutil.relativedelta import relativedelta\n",
    "\n",
    "%pylab inline"
   ]
  },
  {
   "cell_type": "code",
   "execution_count": 3,
   "metadata": {},
   "outputs": [
    {
     "name": "stdout",
     "output_type": "stream",
     "text": [
      "C:\\Users\\mbpablo\\Desktop\\TFM\\Ficheros_entrada\n"
     ]
    }
   ],
   "source": [
    "cd \\Users\\mbpablo\\Desktop\\TFM\\Ficheros_entrada\\"
   ]
  },
  {
   "cell_type": "markdown",
   "metadata": {},
   "source": [
    "## 1. Importación mensual del fichero:"
   ]
  },
  {
   "cell_type": "code",
   "execution_count": 4,
   "metadata": {},
   "outputs": [],
   "source": [
    "# Se visualizan todas las variables del dataset\n",
    "\n",
    "pd.set_option('display.max_columns', 500)"
   ]
  },
  {
   "cell_type": "code",
   "execution_count": 5,
   "metadata": {},
   "outputs": [],
   "source": [
    "list_of_data = ('ENE','FEB','MAR','ABR','MAY','JUN','JUL','AGO','SEP','OCT','NOV','DIC')"
   ]
  },
  {
   "cell_type": "code",
   "execution_count": 6,
   "metadata": {},
   "outputs": [],
   "source": [
    "# Se importan los ficheros mensuales:\n",
    "\n",
    "def import_data(list_of_data):\n",
    "    \n",
    "    \"\"\" Se crea un fichero donde se irán acumulando las extracciones mensuales.\n",
    "    Se elige esta manera de hacerlo porque no todos los meses tienen la misma estructura de variables \"\"\"\n",
    "  \n",
    "    datos = []\n",
    "  \n",
    "    for file in list_of_data:\n",
    "\n",
    "        datos.append(pd.read_csv(file + '_v2_2018.tab', \n",
    "           sep='\\t', encoding='latin-1', engine='python', error_bad_lines=False, \n",
    "           na_values=[np.nan, 'nan', 'NONE', -999, ''], parse_dates=['VAR_27','VAR_28']))\n",
    "    \n",
    "        df = pd.concat(datos, sort=True)\n",
    "    \n",
    "    return df"
   ]
  },
  {
   "cell_type": "code",
   "execution_count": 7,
   "metadata": {},
   "outputs": [
    {
     "data": {
      "text/html": [
       "<div>\n",
       "<style scoped>\n",
       "    .dataframe tbody tr th:only-of-type {\n",
       "        vertical-align: middle;\n",
       "    }\n",
       "\n",
       "    .dataframe tbody tr th {\n",
       "        vertical-align: top;\n",
       "    }\n",
       "\n",
       "    .dataframe thead th {\n",
       "        text-align: right;\n",
       "    }\n",
       "</style>\n",
       "<table border=\"1\" class=\"dataframe\">\n",
       "  <thead>\n",
       "    <tr style=\"text-align: right;\">\n",
       "      <th></th>\n",
       "      <th>VAR_01</th>\n",
       "      <th>VAR_02</th>\n",
       "      <th>VAR_03</th>\n",
       "      <th>VAR_04</th>\n",
       "      <th>VAR_05</th>\n",
       "      <th>VAR_06</th>\n",
       "      <th>VAR_07</th>\n",
       "      <th>VAR_08</th>\n",
       "      <th>VAR_09</th>\n",
       "      <th>VAR_10</th>\n",
       "      <th>VAR_11</th>\n",
       "      <th>VAR_12</th>\n",
       "      <th>VAR_13</th>\n",
       "      <th>VAR_14</th>\n",
       "      <th>VAR_15</th>\n",
       "      <th>VAR_16</th>\n",
       "      <th>VAR_17</th>\n",
       "      <th>VAR_18</th>\n",
       "      <th>VAR_19</th>\n",
       "      <th>VAR_20</th>\n",
       "      <th>VAR_21</th>\n",
       "      <th>VAR_22</th>\n",
       "      <th>VAR_23</th>\n",
       "      <th>VAR_24</th>\n",
       "      <th>VAR_25</th>\n",
       "      <th>VAR_26</th>\n",
       "      <th>VAR_27</th>\n",
       "      <th>VAR_28</th>\n",
       "      <th>VAR_29</th>\n",
       "      <th>VAR_30</th>\n",
       "      <th>VAR_31</th>\n",
       "      <th>VAR_32</th>\n",
       "      <th>VAR_33</th>\n",
       "      <th>VAR_34</th>\n",
       "      <th>VAR_35</th>\n",
       "      <th>VAR_36</th>\n",
       "      <th>VAR_37</th>\n",
       "      <th>VAR_38</th>\n",
       "      <th>VAR_39</th>\n",
       "      <th>VAR_40</th>\n",
       "      <th>VAR_41</th>\n",
       "      <th>VAR_42</th>\n",
       "      <th>VAR_43</th>\n",
       "      <th>VAR_44</th>\n",
       "      <th>VAR_45</th>\n",
       "      <th>VAR_46</th>\n",
       "      <th>VAR_47</th>\n",
       "      <th>VAR_48</th>\n",
       "      <th>VAR_49</th>\n",
       "      <th>VAR_50</th>\n",
       "      <th>VAR_51</th>\n",
       "      <th>VAR_52</th>\n",
       "      <th>VAR_53</th>\n",
       "      <th>VAR_54</th>\n",
       "      <th>VAR_55</th>\n",
       "      <th>VAR_56</th>\n",
       "      <th>VAR_57</th>\n",
       "      <th>VAR_58</th>\n",
       "      <th>VAR_59</th>\n",
       "      <th>VAR_60</th>\n",
       "      <th>VAR_61</th>\n",
       "      <th>VAR_62</th>\n",
       "      <th>VAR_63</th>\n",
       "      <th>VAR_64</th>\n",
       "      <th>VAR_65</th>\n",
       "      <th>VAR_66</th>\n",
       "      <th>VAR_67</th>\n",
       "      <th>VAR_68</th>\n",
       "      <th>VAR_69</th>\n",
       "      <th>VAR_70</th>\n",
       "      <th>VAR_71</th>\n",
       "      <th>VAR_72</th>\n",
       "      <th>VAR_73</th>\n",
       "      <th>VAR_74</th>\n",
       "      <th>VAR_75</th>\n",
       "      <th>VAR_76</th>\n",
       "      <th>VAR_77</th>\n",
       "      <th>VAR_78</th>\n",
       "      <th>VAR_79</th>\n",
       "      <th>VAR_80</th>\n",
       "      <th>VAR_81</th>\n",
       "      <th>VAR_82</th>\n",
       "      <th>VAR_83</th>\n",
       "      <th>VAR_84</th>\n",
       "      <th>VAR_85</th>\n",
       "      <th>VAR_86</th>\n",
       "      <th>VAR_87</th>\n",
       "      <th>VAR_88</th>\n",
       "      <th>VAR_89</th>\n",
       "      <th>VAR_90</th>\n",
       "      <th>VAR_91</th>\n",
       "      <th>VAR_92</th>\n",
       "      <th>VAR_93</th>\n",
       "      <th>VAR_94</th>\n",
       "    </tr>\n",
       "  </thead>\n",
       "  <tbody>\n",
       "    <tr>\n",
       "      <th>0</th>\n",
       "      <td>1</td>\n",
       "      <td>3 años</td>\n",
       "      <td>Question Not Shown To Visitor</td>\n",
       "      <td>Entre 4 y 5 años</td>\n",
       "      <td>3 años</td>\n",
       "      <td>3 años</td>\n",
       "      <td>1.0</td>\n",
       "      <td>1</td>\n",
       "      <td>1</td>\n",
       "      <td>26 25 años</td>\n",
       "      <td>1</td>\n",
       "      <td>28018</td>\n",
       "      <td>100001</td>\n",
       "      <td>1</td>\n",
       "      <td>0</td>\n",
       "      <td>0</td>\n",
       "      <td>0</td>\n",
       "      <td>0</td>\n",
       "      <td>0</td>\n",
       "      <td>1</td>\n",
       "      <td>1</td>\n",
       "      <td>1.0</td>\n",
       "      <td>1</td>\n",
       "      <td>0</td>\n",
       "      <td>0</td>\n",
       "      <td>0</td>\n",
       "      <td>2018-01-15</td>\n",
       "      <td>1974-05-14</td>\n",
       "      <td>Este mes</td>\n",
       "      <td>1</td>\n",
       "      <td>1</td>\n",
       "      <td>0</td>\n",
       "      <td>0</td>\n",
       "      <td>0</td>\n",
       "      <td>NaN</td>\n",
       "      <td>1</td>\n",
       "      <td>2</td>\n",
       "      <td>3</td>\n",
       "      <td>1</td>\n",
       "      <td>1</td>\n",
       "      <td>28</td>\n",
       "      <td>0</td>\n",
       "      <td>O</td>\n",
       "      <td>0</td>\n",
       "      <td>0</td>\n",
       "      <td>0</td>\n",
       "      <td>0</td>\n",
       "      <td>0</td>\n",
       "      <td>1</td>\n",
       "      <td>0</td>\n",
       "      <td>1</td>\n",
       "      <td>0</td>\n",
       "      <td>0</td>\n",
       "      <td>0</td>\n",
       "      <td>0</td>\n",
       "      <td>0</td>\n",
       "      <td>0</td>\n",
       "      <td>0</td>\n",
       "      <td>0</td>\n",
       "      <td>0</td>\n",
       "      <td>0</td>\n",
       "      <td>0</td>\n",
       "      <td>0</td>\n",
       "      <td>0</td>\n",
       "      <td>0</td>\n",
       "      <td>0</td>\n",
       "      <td>0</td>\n",
       "      <td>1</td>\n",
       "      <td>0</td>\n",
       "      <td>0</td>\n",
       "      <td>0</td>\n",
       "      <td>0</td>\n",
       "      <td>0</td>\n",
       "      <td>0</td>\n",
       "      <td>0</td>\n",
       "      <td>0</td>\n",
       "      <td>0</td>\n",
       "      <td>0</td>\n",
       "      <td>0</td>\n",
       "      <td>0</td>\n",
       "      <td>0</td>\n",
       "      <td>0</td>\n",
       "      <td>0</td>\n",
       "      <td>1</td>\n",
       "      <td>1</td>\n",
       "      <td>0</td>\n",
       "      <td>1</td>\n",
       "      <td>1</td>\n",
       "      <td>1</td>\n",
       "      <td>11.0</td>\n",
       "      <td>0</td>\n",
       "      <td>0</td>\n",
       "      <td>0</td>\n",
       "      <td>1</td>\n",
       "    </tr>\n",
       "    <tr>\n",
       "      <th>1</th>\n",
       "      <td>2</td>\n",
       "      <td>más de 10</td>\n",
       "      <td>Question Not Shown To Visitor</td>\n",
       "      <td>Entre 10 y 25 años</td>\n",
       "      <td>más de 10</td>\n",
       "      <td>más de 10</td>\n",
       "      <td>0.0</td>\n",
       "      <td>2</td>\n",
       "      <td>2</td>\n",
       "      <td>24 23 años</td>\n",
       "      <td>1</td>\n",
       "      <td>7141</td>\n",
       "      <td>100009</td>\n",
       "      <td>2</td>\n",
       "      <td>1</td>\n",
       "      <td>0</td>\n",
       "      <td>0</td>\n",
       "      <td>0</td>\n",
       "      <td>0</td>\n",
       "      <td>1</td>\n",
       "      <td>2</td>\n",
       "      <td>1.0</td>\n",
       "      <td>0</td>\n",
       "      <td>1</td>\n",
       "      <td>0</td>\n",
       "      <td>1</td>\n",
       "      <td>2018-01-19</td>\n",
       "      <td>1976-08-23</td>\n",
       "      <td>Hace 11 meses</td>\n",
       "      <td>1</td>\n",
       "      <td>2</td>\n",
       "      <td>0</td>\n",
       "      <td>0</td>\n",
       "      <td>0</td>\n",
       "      <td>NaN</td>\n",
       "      <td>1</td>\n",
       "      <td>2</td>\n",
       "      <td>1</td>\n",
       "      <td>2</td>\n",
       "      <td>1</td>\n",
       "      <td>7</td>\n",
       "      <td>0</td>\n",
       "      <td>L</td>\n",
       "      <td>0</td>\n",
       "      <td>0</td>\n",
       "      <td>0</td>\n",
       "      <td>0</td>\n",
       "      <td>0</td>\n",
       "      <td>0</td>\n",
       "      <td>0</td>\n",
       "      <td>0</td>\n",
       "      <td>0</td>\n",
       "      <td>0</td>\n",
       "      <td>0</td>\n",
       "      <td>0</td>\n",
       "      <td>0</td>\n",
       "      <td>0</td>\n",
       "      <td>0</td>\n",
       "      <td>0</td>\n",
       "      <td>0</td>\n",
       "      <td>0</td>\n",
       "      <td>0</td>\n",
       "      <td>0</td>\n",
       "      <td>0</td>\n",
       "      <td>0</td>\n",
       "      <td>0</td>\n",
       "      <td>0</td>\n",
       "      <td>1</td>\n",
       "      <td>0</td>\n",
       "      <td>0</td>\n",
       "      <td>0</td>\n",
       "      <td>0</td>\n",
       "      <td>0</td>\n",
       "      <td>0</td>\n",
       "      <td>0</td>\n",
       "      <td>0</td>\n",
       "      <td>0</td>\n",
       "      <td>0</td>\n",
       "      <td>0</td>\n",
       "      <td>0</td>\n",
       "      <td>0</td>\n",
       "      <td>0</td>\n",
       "      <td>0</td>\n",
       "      <td>0</td>\n",
       "      <td>0</td>\n",
       "      <td>0</td>\n",
       "      <td>1</td>\n",
       "      <td>1</td>\n",
       "      <td>2</td>\n",
       "      <td>7.0</td>\n",
       "      <td>0</td>\n",
       "      <td>0</td>\n",
       "      <td>0</td>\n",
       "      <td>1</td>\n",
       "    </tr>\n",
       "    <tr>\n",
       "      <th>2</th>\n",
       "      <td>2</td>\n",
       "      <td>más de 10</td>\n",
       "      <td>Question Not Shown To Visitor</td>\n",
       "      <td>Entre 10 y 25 años</td>\n",
       "      <td>Sin Accidentes</td>\n",
       "      <td>más de 10</td>\n",
       "      <td>0.0</td>\n",
       "      <td>2</td>\n",
       "      <td>3</td>\n",
       "      <td>18 17 años</td>\n",
       "      <td>1</td>\n",
       "      <td>10005</td>\n",
       "      <td>100009</td>\n",
       "      <td>3</td>\n",
       "      <td>0</td>\n",
       "      <td>0</td>\n",
       "      <td>0</td>\n",
       "      <td>0</td>\n",
       "      <td>0</td>\n",
       "      <td>1</td>\n",
       "      <td>2</td>\n",
       "      <td>NaN</td>\n",
       "      <td>0</td>\n",
       "      <td>0</td>\n",
       "      <td>0</td>\n",
       "      <td>1</td>\n",
       "      <td>2018-08-01</td>\n",
       "      <td>1981-01-23</td>\n",
       "      <td>Dentro de 1 mes</td>\n",
       "      <td>0</td>\n",
       "      <td>3</td>\n",
       "      <td>0</td>\n",
       "      <td>0</td>\n",
       "      <td>0</td>\n",
       "      <td>NaN</td>\n",
       "      <td>1</td>\n",
       "      <td>1</td>\n",
       "      <td>1</td>\n",
       "      <td>3</td>\n",
       "      <td>1</td>\n",
       "      <td>10</td>\n",
       "      <td>0</td>\n",
       "      <td>L</td>\n",
       "      <td>1</td>\n",
       "      <td>0</td>\n",
       "      <td>0</td>\n",
       "      <td>1</td>\n",
       "      <td>0</td>\n",
       "      <td>0</td>\n",
       "      <td>0</td>\n",
       "      <td>0</td>\n",
       "      <td>1</td>\n",
       "      <td>0</td>\n",
       "      <td>1</td>\n",
       "      <td>0</td>\n",
       "      <td>0</td>\n",
       "      <td>0</td>\n",
       "      <td>0</td>\n",
       "      <td>0</td>\n",
       "      <td>0</td>\n",
       "      <td>0</td>\n",
       "      <td>0</td>\n",
       "      <td>0</td>\n",
       "      <td>0</td>\n",
       "      <td>0</td>\n",
       "      <td>0</td>\n",
       "      <td>0</td>\n",
       "      <td>1</td>\n",
       "      <td>0</td>\n",
       "      <td>1</td>\n",
       "      <td>0</td>\n",
       "      <td>1</td>\n",
       "      <td>0</td>\n",
       "      <td>0</td>\n",
       "      <td>0</td>\n",
       "      <td>0</td>\n",
       "      <td>0</td>\n",
       "      <td>0</td>\n",
       "      <td>0</td>\n",
       "      <td>0</td>\n",
       "      <td>1</td>\n",
       "      <td>0</td>\n",
       "      <td>0</td>\n",
       "      <td>1</td>\n",
       "      <td>0</td>\n",
       "      <td>0</td>\n",
       "      <td>7</td>\n",
       "      <td>1</td>\n",
       "      <td>1</td>\n",
       "      <td>8.0</td>\n",
       "      <td>0</td>\n",
       "      <td>0</td>\n",
       "      <td>0</td>\n",
       "      <td>1</td>\n",
       "    </tr>\n",
       "    <tr>\n",
       "      <th>3</th>\n",
       "      <td>2</td>\n",
       "      <td>más de 10</td>\n",
       "      <td>Question Not Shown To Visitor</td>\n",
       "      <td>Entre 2 y 3 años</td>\n",
       "      <td>4 años</td>\n",
       "      <td>más de 10</td>\n",
       "      <td>0.0</td>\n",
       "      <td>1</td>\n",
       "      <td>4</td>\n",
       "      <td>25 24 años</td>\n",
       "      <td>1</td>\n",
       "      <td>8222</td>\n",
       "      <td>100011</td>\n",
       "      <td>3</td>\n",
       "      <td>0</td>\n",
       "      <td>0</td>\n",
       "      <td>0</td>\n",
       "      <td>0</td>\n",
       "      <td>0</td>\n",
       "      <td>0</td>\n",
       "      <td>1</td>\n",
       "      <td>1.0</td>\n",
       "      <td>0</td>\n",
       "      <td>0</td>\n",
       "      <td>0</td>\n",
       "      <td>1</td>\n",
       "      <td>2018-11-01</td>\n",
       "      <td>1975-05-11</td>\n",
       "      <td>Este mes</td>\n",
       "      <td>1</td>\n",
       "      <td>4</td>\n",
       "      <td>0</td>\n",
       "      <td>0</td>\n",
       "      <td>1</td>\n",
       "      <td>NaN</td>\n",
       "      <td>1</td>\n",
       "      <td>1</td>\n",
       "      <td>1</td>\n",
       "      <td>4</td>\n",
       "      <td>1</td>\n",
       "      <td>8</td>\n",
       "      <td>0</td>\n",
       "      <td>M</td>\n",
       "      <td>0</td>\n",
       "      <td>0</td>\n",
       "      <td>0</td>\n",
       "      <td>0</td>\n",
       "      <td>0</td>\n",
       "      <td>0</td>\n",
       "      <td>0</td>\n",
       "      <td>0</td>\n",
       "      <td>0</td>\n",
       "      <td>0</td>\n",
       "      <td>0</td>\n",
       "      <td>0</td>\n",
       "      <td>0</td>\n",
       "      <td>0</td>\n",
       "      <td>0</td>\n",
       "      <td>0</td>\n",
       "      <td>0</td>\n",
       "      <td>0</td>\n",
       "      <td>0</td>\n",
       "      <td>0</td>\n",
       "      <td>0</td>\n",
       "      <td>0</td>\n",
       "      <td>0</td>\n",
       "      <td>0</td>\n",
       "      <td>0</td>\n",
       "      <td>0</td>\n",
       "      <td>0</td>\n",
       "      <td>0</td>\n",
       "      <td>0</td>\n",
       "      <td>0</td>\n",
       "      <td>0</td>\n",
       "      <td>0</td>\n",
       "      <td>0</td>\n",
       "      <td>0</td>\n",
       "      <td>0</td>\n",
       "      <td>0</td>\n",
       "      <td>0</td>\n",
       "      <td>0</td>\n",
       "      <td>0</td>\n",
       "      <td>0</td>\n",
       "      <td>0</td>\n",
       "      <td>0</td>\n",
       "      <td>0</td>\n",
       "      <td>0</td>\n",
       "      <td>1</td>\n",
       "      <td>2</td>\n",
       "      <td>9.0</td>\n",
       "      <td>0</td>\n",
       "      <td>0</td>\n",
       "      <td>0</td>\n",
       "      <td>1</td>\n",
       "    </tr>\n",
       "    <tr>\n",
       "      <th>4</th>\n",
       "      <td>3</td>\n",
       "      <td>1 año</td>\n",
       "      <td>0 Years and 10 Months</td>\n",
       "      <td>Entre 10 y 25 años</td>\n",
       "      <td>2 años</td>\n",
       "      <td>1 años</td>\n",
       "      <td>1.0</td>\n",
       "      <td>1</td>\n",
       "      <td>5</td>\n",
       "      <td>10 9 años</td>\n",
       "      <td>1</td>\n",
       "      <td>4009</td>\n",
       "      <td>100016</td>\n",
       "      <td>4</td>\n",
       "      <td>0</td>\n",
       "      <td>0</td>\n",
       "      <td>0</td>\n",
       "      <td>0</td>\n",
       "      <td>0</td>\n",
       "      <td>0</td>\n",
       "      <td>1</td>\n",
       "      <td>1.0</td>\n",
       "      <td>0</td>\n",
       "      <td>0</td>\n",
       "      <td>0</td>\n",
       "      <td>1</td>\n",
       "      <td>2018-01-22</td>\n",
       "      <td>1990-05-30</td>\n",
       "      <td>Dentro de 2 meses</td>\n",
       "      <td>0</td>\n",
       "      <td>2</td>\n",
       "      <td>1</td>\n",
       "      <td>0</td>\n",
       "      <td>0</td>\n",
       "      <td>NaN</td>\n",
       "      <td>1</td>\n",
       "      <td>2</td>\n",
       "      <td>1</td>\n",
       "      <td>5</td>\n",
       "      <td>1</td>\n",
       "      <td>4</td>\n",
       "      <td>0</td>\n",
       "      <td>J</td>\n",
       "      <td>0</td>\n",
       "      <td>0</td>\n",
       "      <td>0</td>\n",
       "      <td>0</td>\n",
       "      <td>0</td>\n",
       "      <td>0</td>\n",
       "      <td>0</td>\n",
       "      <td>0</td>\n",
       "      <td>0</td>\n",
       "      <td>0</td>\n",
       "      <td>0</td>\n",
       "      <td>0</td>\n",
       "      <td>0</td>\n",
       "      <td>0</td>\n",
       "      <td>0</td>\n",
       "      <td>0</td>\n",
       "      <td>0</td>\n",
       "      <td>0</td>\n",
       "      <td>0</td>\n",
       "      <td>0</td>\n",
       "      <td>0</td>\n",
       "      <td>0</td>\n",
       "      <td>0</td>\n",
       "      <td>0</td>\n",
       "      <td>0</td>\n",
       "      <td>0</td>\n",
       "      <td>0</td>\n",
       "      <td>0</td>\n",
       "      <td>0</td>\n",
       "      <td>0</td>\n",
       "      <td>0</td>\n",
       "      <td>0</td>\n",
       "      <td>0</td>\n",
       "      <td>0</td>\n",
       "      <td>0</td>\n",
       "      <td>0</td>\n",
       "      <td>0</td>\n",
       "      <td>0</td>\n",
       "      <td>0</td>\n",
       "      <td>0</td>\n",
       "      <td>0</td>\n",
       "      <td>0</td>\n",
       "      <td>0</td>\n",
       "      <td>63</td>\n",
       "      <td>1</td>\n",
       "      <td>2</td>\n",
       "      <td>9.0</td>\n",
       "      <td>0</td>\n",
       "      <td>0</td>\n",
       "      <td>0</td>\n",
       "      <td>1</td>\n",
       "    </tr>\n",
       "  </tbody>\n",
       "</table>\n",
       "</div>"
      ],
      "text/plain": [
       "   VAR_01     VAR_02                         VAR_03              VAR_04  \\\n",
       "0       1     3 años  Question Not Shown To Visitor    Entre 4 y 5 años   \n",
       "1       2  más de 10  Question Not Shown To Visitor  Entre 10 y 25 años   \n",
       "2       2  más de 10  Question Not Shown To Visitor  Entre 10 y 25 años   \n",
       "3       2  más de 10  Question Not Shown To Visitor    Entre 2 y 3 años   \n",
       "4       3      1 año          0 Years and 10 Months  Entre 10 y 25 años   \n",
       "\n",
       "           VAR_05     VAR_06  VAR_07  VAR_08  VAR_09      VAR_10  VAR_11  \\\n",
       "0          3 años     3 años     1.0       1       1  26 25 años       1   \n",
       "1       más de 10  más de 10     0.0       2       2  24 23 años       1   \n",
       "2  Sin Accidentes  más de 10     0.0       2       3  18 17 años       1   \n",
       "3          4 años  más de 10     0.0       1       4  25 24 años       1   \n",
       "4          2 años     1 años     1.0       1       5   10 9 años       1   \n",
       "\n",
       "   VAR_12  VAR_13  VAR_14  VAR_15  VAR_16  VAR_17  VAR_18  VAR_19  VAR_20  \\\n",
       "0   28018  100001       1       0       0       0       0       0       1   \n",
       "1    7141  100009       2       1       0       0       0       0       1   \n",
       "2   10005  100009       3       0       0       0       0       0       1   \n",
       "3    8222  100011       3       0       0       0       0       0       0   \n",
       "4    4009  100016       4       0       0       0       0       0       0   \n",
       "\n",
       "   VAR_21  VAR_22  VAR_23  VAR_24  VAR_25  VAR_26     VAR_27     VAR_28  \\\n",
       "0       1     1.0       1       0       0       0 2018-01-15 1974-05-14   \n",
       "1       2     1.0       0       1       0       1 2018-01-19 1976-08-23   \n",
       "2       2     NaN       0       0       0       1 2018-08-01 1981-01-23   \n",
       "3       1     1.0       0       0       0       1 2018-11-01 1975-05-11   \n",
       "4       1     1.0       0       0       0       1 2018-01-22 1990-05-30   \n",
       "\n",
       "              VAR_29  VAR_30  VAR_31 VAR_32 VAR_33 VAR_34  VAR_35  VAR_36  \\\n",
       "0           Este mes       1       1      0      0      0     NaN       1   \n",
       "1      Hace 11 meses       1       2      0      0      0     NaN       1   \n",
       "2    Dentro de 1 mes       0       3      0      0      0     NaN       1   \n",
       "3           Este mes       1       4      0      0      1     NaN       1   \n",
       "4  Dentro de 2 meses       0       2      1      0      0     NaN       1   \n",
       "\n",
       "  VAR_37  VAR_38  VAR_39  VAR_40  VAR_41  VAR_42 VAR_43  VAR_44  VAR_45  \\\n",
       "0      2       3       1       1      28       0      O       0       0   \n",
       "1      2       1       2       1       7       0      L       0       0   \n",
       "2      1       1       3       1      10       0      L       1       0   \n",
       "3      1       1       4       1       8       0      M       0       0   \n",
       "4      2       1       5       1       4       0      J       0       0   \n",
       "\n",
       "   VAR_46  VAR_47  VAR_48  VAR_49  VAR_50  VAR_51  VAR_52  VAR_53  VAR_54  \\\n",
       "0       0       0       0       1       0       1       0       0       0   \n",
       "1       0       0       0       0       0       0       0       0       0   \n",
       "2       0       1       0       0       0       0       1       0       1   \n",
       "3       0       0       0       0       0       0       0       0       0   \n",
       "4       0       0       0       0       0       0       0       0       0   \n",
       "\n",
       "   VAR_55  VAR_56  VAR_57  VAR_58  VAR_59  VAR_60  VAR_61  VAR_62  VAR_63  \\\n",
       "0       0       0       0       0       0       0       0       0       0   \n",
       "1       0       0       0       0       0       0       0       0       0   \n",
       "2       0       0       0       0       0       0       0       0       0   \n",
       "3       0       0       0       0       0       0       0       0       0   \n",
       "4       0       0       0       0       0       0       0       0       0   \n",
       "\n",
       "   VAR_64  VAR_65  VAR_66  VAR_67  VAR_68  VAR_69  VAR_70  VAR_71  VAR_72  \\\n",
       "0       0       0       0       0       1       0       0       0       0   \n",
       "1       0       0       0       0       1       0       0       0       0   \n",
       "2       0       0       0       0       1       0       1       0       1   \n",
       "3       0       0       0       0       0       0       0       0       0   \n",
       "4       0       0       0       0       0       0       0       0       0   \n",
       "\n",
       "   VAR_73  VAR_74  VAR_75  VAR_76  VAR_77  VAR_78  VAR_79  VAR_80  VAR_81  \\\n",
       "0       0       0       0       0       0       0       0       0       0   \n",
       "1       0       0       0       0       0       0       0       0       0   \n",
       "2       0       0       0       0       0       0       0       0       1   \n",
       "3       0       0       0       0       0       0       0       0       0   \n",
       "4       0       0       0       0       0       0       0       0       0   \n",
       "\n",
       "   VAR_82  VAR_83  VAR_84  VAR_85  VAR_86 VAR_87  VAR_88  VAR_89  VAR_90  \\\n",
       "0       0       0       1       1       0      1       1       1    11.0   \n",
       "1       0       0       0       0       0      1       1       2     7.0   \n",
       "2       0       0       1       0       0      7       1       1     8.0   \n",
       "3       0       0       0       0       0      0       1       2     9.0   \n",
       "4       0       0       0       0       0     63       1       2     9.0   \n",
       "\n",
       "  VAR_91 VAR_92 VAR_93  VAR_94  \n",
       "0      0      0      0       1  \n",
       "1      0      0      0       1  \n",
       "2      0      0      0       1  \n",
       "3      0      0      0       1  \n",
       "4      0      0      0       1  "
      ]
     },
     "execution_count": 7,
     "metadata": {},
     "output_type": "execute_result"
    }
   ],
   "source": [
    "A = import_data(list_of_data)\n",
    "A.head(5)"
   ]
  },
  {
   "cell_type": "code",
   "execution_count": 8,
   "metadata": {},
   "outputs": [
    {
     "data": {
      "text/plain": [
       "VAR_01             int64\n",
       "VAR_02            object\n",
       "VAR_03            object\n",
       "VAR_04            object\n",
       "VAR_05            object\n",
       "VAR_06            object\n",
       "VAR_07           float64\n",
       "VAR_08             int64\n",
       "VAR_09             int64\n",
       "VAR_10            object\n",
       "VAR_11             int64\n",
       "VAR_12             int64\n",
       "VAR_13             int64\n",
       "VAR_14             int64\n",
       "VAR_15             int64\n",
       "VAR_16             int64\n",
       "VAR_17             int64\n",
       "VAR_18             int64\n",
       "VAR_19             int64\n",
       "VAR_20             int64\n",
       "VAR_21             int64\n",
       "VAR_22           float64\n",
       "VAR_23             int64\n",
       "VAR_24             int64\n",
       "VAR_25             int64\n",
       "VAR_26             int64\n",
       "VAR_27    datetime64[ns]\n",
       "VAR_28    datetime64[ns]\n",
       "VAR_29            object\n",
       "VAR_30             int64\n",
       "               ...      \n",
       "VAR_65             int64\n",
       "VAR_66             int64\n",
       "VAR_67             int64\n",
       "VAR_68             int64\n",
       "VAR_69             int64\n",
       "VAR_70             int64\n",
       "VAR_71             int64\n",
       "VAR_72             int64\n",
       "VAR_73             int64\n",
       "VAR_74             int64\n",
       "VAR_75             int64\n",
       "VAR_76             int64\n",
       "VAR_77             int64\n",
       "VAR_78             int64\n",
       "VAR_79             int64\n",
       "VAR_80             int64\n",
       "VAR_81             int64\n",
       "VAR_82             int64\n",
       "VAR_83             int64\n",
       "VAR_84             int64\n",
       "VAR_85             int64\n",
       "VAR_86             int64\n",
       "VAR_87            object\n",
       "VAR_88             int64\n",
       "VAR_89             int64\n",
       "VAR_90           float64\n",
       "VAR_91            object\n",
       "VAR_92            object\n",
       "VAR_93            object\n",
       "VAR_94             int64\n",
       "Length: 94, dtype: object"
      ]
     },
     "execution_count": 8,
     "metadata": {},
     "output_type": "execute_result"
    }
   ],
   "source": [
    "A.dtypes"
   ]
  },
  {
   "cell_type": "code",
   "execution_count": 9,
   "metadata": {},
   "outputs": [],
   "source": [
    "# Se definen como string las variables que van a ser tratadas como categóricas:\n",
    "      \n",
    "dtype_columns = ['VAR_01', 'VAR_08', 'VAR_09', 'VAR_11', 'VAR_12', 'VAR_13', 'VAR_14', 'VAR_15', 'VAR_16', 'VAR_17', \n",
    "                 'VAR_18', 'VAR_19', 'VAR_20', 'VAR_21', 'VAR_22', 'VAR_23', 'VAR_24', 'VAR_25', 'VAR_26', 'VAR_30',\n",
    "                 'VAR_31', 'VAR_35', 'VAR_36', 'VAR_38', 'VAR_39', 'VAR_40', 'VAR_41', 'VAR_42', 'VAR_44', 'VAR_45',\n",
    "                 'VAR_46', 'VAR_47', 'VAR_48', 'VAR_49', 'VAR_50', 'VAR_51', 'VAR_52', 'VAR_53', 'VAR_54','VAR_55',\n",
    "                 'VAR_56', 'VAR_57', 'VAR_58', 'VAR_59', 'VAR_60', 'VAR_61', 'VAR_62', 'VAR_63', 'VAR_64','VAR_65',\n",
    "                 'VAR_66', 'VAR_67', 'VAR_68', 'VAR_69', 'VAR_70', 'VAR_71', 'VAR_72', 'VAR_73', 'VAR_74','VAR_75',\n",
    "                 'VAR_76', 'VAR_77', 'VAR_78', 'VAR_79', 'VAR_80', 'VAR_81', 'VAR_82', 'VAR_83', 'VAR_84','VAR_85',\n",
    "                 'VAR_86', 'VAR_88', 'VAR_89', 'VAR_90', 'VAR_94']\n",
    "      \n",
    "A.loc[:, dtype_columns] = A.loc[:, dtype_columns].astype('str')"
   ]
  },
  {
   "cell_type": "code",
   "execution_count": 10,
   "metadata": {},
   "outputs": [
    {
     "data": {
      "text/plain": [
       "(108406, 94)"
      ]
     },
     "execution_count": 10,
     "metadata": {},
     "output_type": "execute_result"
    }
   ],
   "source": [
    "A.shape"
   ]
  },
  {
   "cell_type": "code",
   "execution_count": 11,
   "metadata": {},
   "outputs": [
    {
     "data": {
      "text/plain": [
       "True"
      ]
     },
     "execution_count": 11,
     "metadata": {},
     "output_type": "execute_result"
    }
   ],
   "source": [
    "# Se comprueba que la importación de los ficheros mensuales no haya generado registros duplicados:\n",
    "\n",
    "A.shape[0] == A.drop_duplicates().shape[0]"
   ]
  },
  {
   "cell_type": "markdown",
   "metadata": {},
   "source": [
    "### 1.2 Se añade información adicional procedente del catálogo:"
   ]
  },
  {
   "cell_type": "code",
   "execution_count": 12,
   "metadata": {
    "scrolled": true
   },
   "outputs": [
    {
     "data": {
      "text/html": [
       "<div>\n",
       "<style scoped>\n",
       "    .dataframe tbody tr th:only-of-type {\n",
       "        vertical-align: middle;\n",
       "    }\n",
       "\n",
       "    .dataframe tbody tr th {\n",
       "        vertical-align: top;\n",
       "    }\n",
       "\n",
       "    .dataframe thead th {\n",
       "        text-align: right;\n",
       "    }\n",
       "</style>\n",
       "<table border=\"1\" class=\"dataframe\">\n",
       "  <thead>\n",
       "    <tr style=\"text-align: right;\">\n",
       "      <th></th>\n",
       "      <th>VAR_13</th>\n",
       "      <th>VAR_95</th>\n",
       "      <th>VAR_96</th>\n",
       "      <th>VAR_97</th>\n",
       "      <th>VAR_98</th>\n",
       "      <th>VAR_99</th>\n",
       "      <th>VAR_100</th>\n",
       "      <th>VAR_101</th>\n",
       "      <th>VAR_102</th>\n",
       "      <th>VAR_103</th>\n",
       "      <th>VAR_104</th>\n",
       "      <th>VAR_105</th>\n",
       "    </tr>\n",
       "  </thead>\n",
       "  <tbody>\n",
       "    <tr>\n",
       "      <th>0</th>\n",
       "      <td>1</td>\n",
       "      <td>4</td>\n",
       "      <td>0.0</td>\n",
       "      <td>5</td>\n",
       "      <td>5</td>\n",
       "      <td>1569</td>\n",
       "      <td>74</td>\n",
       "      <td>0.0</td>\n",
       "      <td>0</td>\n",
       "      <td>0</td>\n",
       "      <td>5553.35</td>\n",
       "      <td>0</td>\n",
       "    </tr>\n",
       "    <tr>\n",
       "      <th>1</th>\n",
       "      <td>2</td>\n",
       "      <td>2</td>\n",
       "      <td>0.0</td>\n",
       "      <td>5</td>\n",
       "      <td>5</td>\n",
       "      <td>1490</td>\n",
       "      <td>95</td>\n",
       "      <td>0.0</td>\n",
       "      <td>0</td>\n",
       "      <td>0</td>\n",
       "      <td>12020.24</td>\n",
       "      <td>0</td>\n",
       "    </tr>\n",
       "  </tbody>\n",
       "</table>\n",
       "</div>"
      ],
      "text/plain": [
       "  VAR_13 VAR_95 VAR_96 VAR_97 VAR_98  VAR_99  VAR_100 VAR_101  VAR_102  \\\n",
       "0      1      4    0.0      5      5    1569       74     0.0        0   \n",
       "1      2      2    0.0      5      5    1490       95     0.0        0   \n",
       "\n",
       "  VAR_103   VAR_104  VAR_105  \n",
       "0       0   5553.35        0  \n",
       "1       0  12020.24        0  "
      ]
     },
     "execution_count": 12,
     "metadata": {},
     "output_type": "execute_result"
    }
   ],
   "source": [
    "T_CATALOGO = pd.read_csv('CATALOGO_v2_112018_TFM.txt', sep='\\t', engine='python')\n",
    "\n",
    "dtype_cat_columns = ['VAR_13', 'VAR_95', 'VAR_96', 'VAR_97', 'VAR_98', 'VAR_101', 'VAR_103']\n",
    "\n",
    "T_CATALOGO.loc[:, dtype_cat_columns] = T_CATALOGO.loc[:, dtype_cat_columns].astype('str')\n",
    "\n",
    "T_CATALOGO.head(2)"
   ]
  },
  {
   "cell_type": "code",
   "execution_count": 13,
   "metadata": {},
   "outputs": [
    {
     "data": {
      "text/plain": [
       "True"
      ]
     },
     "execution_count": 13,
     "metadata": {},
     "output_type": "execute_result"
    }
   ],
   "source": [
    "# Se añade información adicional procedente del catálogo:\n",
    "\n",
    "A_cat = A.merge(T_CATALOGO, how='left', left_on=['VAR_13'], right_on=['VAR_13'])\n",
    "\n",
    "# Se comprueba que el cruce es correcto, ya que el dataset de salida tiene las mismas columnas del de entrada:\n",
    "\n",
    "A.shape[0] == A_cat.shape[0]"
   ]
  },
  {
   "cell_type": "markdown",
   "metadata": {},
   "source": [
    "## 2.Tratamiento de variables:"
   ]
  },
  {
   "cell_type": "code",
   "execution_count": 14,
   "metadata": {},
   "outputs": [],
   "source": [
    "# Se calcula la VAR_106 (edad) como la diferencia entre VAR_27 y var_28 para disponer de esta variable en forma continua:\n",
    "\n",
    "A_cat.loc[:,'VAR_106'] = A_cat.apply(lambda x: relativedelta(x['VAR_27'],x['VAR_28'])\\\n",
    "                                            .years, axis=1).values"
   ]
  },
  {
   "cell_type": "code",
   "execution_count": 15,
   "metadata": {},
   "outputs": [
    {
     "data": {
      "text/plain": [
       "dtype('int64')"
      ]
     },
     "execution_count": 15,
     "metadata": {},
     "output_type": "execute_result"
    }
   ],
   "source": [
    "A_cat['VAR_106'].dtypes"
   ]
  },
  {
   "cell_type": "code",
   "execution_count": 16,
   "metadata": {},
   "outputs": [
    {
     "data": {
      "text/plain": [
       "0    43\n",
       "1    41\n",
       "2    37\n",
       "3    43\n",
       "4    27\n",
       "Name: VAR_106, dtype: int64"
      ]
     },
     "execution_count": 16,
     "metadata": {},
     "output_type": "execute_result"
    }
   ],
   "source": [
    "A_cat['VAR_106'].head()"
   ]
  },
  {
   "cell_type": "markdown",
   "metadata": {},
   "source": [
    "### 2.1 Se estudian los missing values:\n",
    "\n",
    "El primer paso al evaluar los missing values es comprobar si el target tiene o no valores ausentes:"
   ]
  },
  {
   "cell_type": "code",
   "execution_count": 17,
   "metadata": {},
   "outputs": [
    {
     "data": {
      "text/plain": [
       "3227"
      ]
     },
     "execution_count": 17,
     "metadata": {},
     "output_type": "execute_result"
    }
   ],
   "source": [
    "A_cat['VAR_43'].isnull().sum()"
   ]
  },
  {
   "cell_type": "markdown",
   "metadata": {},
   "source": [
    "El Scoring es el target, y, aproximadamente, un 3% de sus valores son missing. Estos registros serán eliminados, ya que que **no tiene sentido mantener en el dataset aquellos registros donde el target no está correctamente informado**."
   ]
  },
  {
   "cell_type": "code",
   "execution_count": 18,
   "metadata": {},
   "outputs": [],
   "source": [
    "# Se eliminan los valores del target que son nan:\n",
    "\n",
    "A_cat = A_cat.loc[(A_cat['VAR_43'].isnull() == False),:]"
   ]
  },
  {
   "cell_type": "markdown",
   "metadata": {},
   "source": [
    "Una vez hecho esto, obtenemos las features que tienen missing values y después observaremos el número de ellos y cuánto representan sobre el total para decidir cómo son tratados."
   ]
  },
  {
   "cell_type": "code",
   "execution_count": 19,
   "metadata": {},
   "outputs": [
    {
     "data": {
      "text/plain": [
       "Index(['VAR_07', 'VAR_10', 'VAR_95', 'VAR_96', 'VAR_97', 'VAR_98', 'VAR_99',\n",
       "       'VAR_100', 'VAR_101', 'VAR_102', 'VAR_103', 'VAR_104', 'VAR_105'],\n",
       "      dtype='object')"
      ]
     },
     "execution_count": 19,
     "metadata": {},
     "output_type": "execute_result"
    }
   ],
   "source": [
    "Columns_missing_values = A_cat.columns[A_cat.isnull().sum()!=0]\n",
    "Columns_missing_values"
   ]
  },
  {
   "cell_type": "code",
   "execution_count": 20,
   "metadata": {},
   "outputs": [],
   "source": [
    "df_missing_values = A_cat[Columns_missing_values]"
   ]
  },
  {
   "cell_type": "code",
   "execution_count": 21,
   "metadata": {},
   "outputs": [
    {
     "data": {
      "text/html": [
       "<div>\n",
       "<style scoped>\n",
       "    .dataframe tbody tr th:only-of-type {\n",
       "        vertical-align: middle;\n",
       "    }\n",
       "\n",
       "    .dataframe tbody tr th {\n",
       "        vertical-align: top;\n",
       "    }\n",
       "\n",
       "    .dataframe thead th {\n",
       "        text-align: right;\n",
       "    }\n",
       "</style>\n",
       "<table border=\"1\" class=\"dataframe\">\n",
       "  <thead>\n",
       "    <tr style=\"text-align: right;\">\n",
       "      <th></th>\n",
       "      <th>Total</th>\n",
       "      <th>Porcentaje</th>\n",
       "    </tr>\n",
       "  </thead>\n",
       "  <tbody>\n",
       "    <tr>\n",
       "      <th>VAR_10</th>\n",
       "      <td>2478</td>\n",
       "      <td>0.023560</td>\n",
       "    </tr>\n",
       "    <tr>\n",
       "      <th>VAR_105</th>\n",
       "      <td>10</td>\n",
       "      <td>0.000095</td>\n",
       "    </tr>\n",
       "    <tr>\n",
       "      <th>VAR_104</th>\n",
       "      <td>10</td>\n",
       "      <td>0.000095</td>\n",
       "    </tr>\n",
       "    <tr>\n",
       "      <th>VAR_103</th>\n",
       "      <td>10</td>\n",
       "      <td>0.000095</td>\n",
       "    </tr>\n",
       "    <tr>\n",
       "      <th>VAR_102</th>\n",
       "      <td>10</td>\n",
       "      <td>0.000095</td>\n",
       "    </tr>\n",
       "    <tr>\n",
       "      <th>VAR_101</th>\n",
       "      <td>10</td>\n",
       "      <td>0.000095</td>\n",
       "    </tr>\n",
       "    <tr>\n",
       "      <th>VAR_100</th>\n",
       "      <td>10</td>\n",
       "      <td>0.000095</td>\n",
       "    </tr>\n",
       "    <tr>\n",
       "      <th>VAR_99</th>\n",
       "      <td>10</td>\n",
       "      <td>0.000095</td>\n",
       "    </tr>\n",
       "    <tr>\n",
       "      <th>VAR_98</th>\n",
       "      <td>10</td>\n",
       "      <td>0.000095</td>\n",
       "    </tr>\n",
       "    <tr>\n",
       "      <th>VAR_97</th>\n",
       "      <td>10</td>\n",
       "      <td>0.000095</td>\n",
       "    </tr>\n",
       "  </tbody>\n",
       "</table>\n",
       "</div>"
      ],
      "text/plain": [
       "         Total  Porcentaje\n",
       "VAR_10    2478    0.023560\n",
       "VAR_105     10    0.000095\n",
       "VAR_104     10    0.000095\n",
       "VAR_103     10    0.000095\n",
       "VAR_102     10    0.000095\n",
       "VAR_101     10    0.000095\n",
       "VAR_100     10    0.000095\n",
       "VAR_99      10    0.000095\n",
       "VAR_98      10    0.000095\n",
       "VAR_97      10    0.000095"
      ]
     },
     "execution_count": 21,
     "metadata": {},
     "output_type": "execute_result"
    }
   ],
   "source": [
    "#Total de missing values\n",
    "\n",
    "total_missing_val = df_missing_values.isnull().sum().sort_values(ascending = False)\n",
    "\n",
    "#Porcentaje que representa sobre el total de datos\n",
    "\n",
    "por_missing_val = (df_missing_values.isnull().sum() / df_missing_values.isnull().count()).sort_values(ascending = False)\n",
    "\n",
    "missing_data = pd.concat([total_missing_val, por_missing_val], axis = 1, keys = ['Total', 'Porcentaje'])\n",
    "missing_data.head(10)"
   ]
  },
  {
   "cell_type": "markdown",
   "metadata": {},
   "source": [
    "Para tratar los missing values restantes se crean **dos listas:**\n",
    "\n",
    "* La primera de ellas contendrá las variables discretas, a cuyos missing values imputaremos la moda.\n",
    "\n",
    "* La segunda contendrá las variables continuas a cuyos missing values le asignaremos el valor válido inmediatamente anterior.\n",
    "  Se decide este método de imputación porque la mayoría de estas variables son de tipo entero y, si les asignásemos la media,\n",
    "  estaríamos imputando valores no enteros."
   ]
  },
  {
   "cell_type": "code",
   "execution_count": 22,
   "metadata": {},
   "outputs": [
    {
     "data": {
      "text/html": [
       "<div>\n",
       "<style scoped>\n",
       "    .dataframe tbody tr th:only-of-type {\n",
       "        vertical-align: middle;\n",
       "    }\n",
       "\n",
       "    .dataframe tbody tr th {\n",
       "        vertical-align: top;\n",
       "    }\n",
       "\n",
       "    .dataframe thead th {\n",
       "        text-align: right;\n",
       "    }\n",
       "</style>\n",
       "<table border=\"1\" class=\"dataframe\">\n",
       "  <thead>\n",
       "    <tr style=\"text-align: right;\">\n",
       "      <th></th>\n",
       "      <th>VAR_10</th>\n",
       "      <th>VAR_95</th>\n",
       "      <th>VAR_96</th>\n",
       "      <th>VAR_97</th>\n",
       "      <th>VAR_98</th>\n",
       "      <th>VAR_101</th>\n",
       "      <th>VAR_103</th>\n",
       "    </tr>\n",
       "  </thead>\n",
       "  <tbody>\n",
       "    <tr>\n",
       "      <th>41612</th>\n",
       "      <td>NaN</td>\n",
       "      <td>1</td>\n",
       "      <td>0.0</td>\n",
       "      <td>4</td>\n",
       "      <td>5</td>\n",
       "      <td>0.0</td>\n",
       "      <td>0</td>\n",
       "    </tr>\n",
       "    <tr>\n",
       "      <th>5908</th>\n",
       "      <td>18 17 años</td>\n",
       "      <td>1</td>\n",
       "      <td>0.0</td>\n",
       "      <td>3</td>\n",
       "      <td>4</td>\n",
       "      <td>0.0</td>\n",
       "      <td>0</td>\n",
       "    </tr>\n",
       "  </tbody>\n",
       "</table>\n",
       "</div>"
      ],
      "text/plain": [
       "           VAR_10 VAR_95 VAR_96 VAR_97 VAR_98 VAR_101 VAR_103\n",
       "41612         NaN      1    0.0      4      5     0.0       0\n",
       "5908   18 17 años      1    0.0      3      4     0.0       0"
      ]
     },
     "execution_count": 22,
     "metadata": {},
     "output_type": "execute_result"
    }
   ],
   "source": [
    "# Se seleccionan las variables discretas:\n",
    "\n",
    "df_missing_values_obj = df_missing_values.loc[:,(df_missing_values.columns[df_missing_values.dtypes == object])]\n",
    "df_missing_values_obj.sample(2)"
   ]
  },
  {
   "cell_type": "code",
   "execution_count": 23,
   "metadata": {},
   "outputs": [
    {
     "data": {
      "text/html": [
       "<div>\n",
       "<style scoped>\n",
       "    .dataframe tbody tr th:only-of-type {\n",
       "        vertical-align: middle;\n",
       "    }\n",
       "\n",
       "    .dataframe tbody tr th {\n",
       "        vertical-align: top;\n",
       "    }\n",
       "\n",
       "    .dataframe thead th {\n",
       "        text-align: right;\n",
       "    }\n",
       "</style>\n",
       "<table border=\"1\" class=\"dataframe\">\n",
       "  <thead>\n",
       "    <tr style=\"text-align: right;\">\n",
       "      <th></th>\n",
       "      <th>VAR_10</th>\n",
       "      <th>VAR_95</th>\n",
       "      <th>VAR_96</th>\n",
       "      <th>VAR_97</th>\n",
       "      <th>VAR_98</th>\n",
       "      <th>VAR_101</th>\n",
       "      <th>VAR_103</th>\n",
       "    </tr>\n",
       "  </thead>\n",
       "  <tbody>\n",
       "    <tr>\n",
       "      <th>0</th>\n",
       "      <td>27 Más de 25 años</td>\n",
       "      <td>2</td>\n",
       "      <td>0.0</td>\n",
       "      <td>5</td>\n",
       "      <td>5</td>\n",
       "      <td>1.0</td>\n",
       "      <td>0</td>\n",
       "    </tr>\n",
       "  </tbody>\n",
       "</table>\n",
       "</div>"
      ],
      "text/plain": [
       "              VAR_10 VAR_95 VAR_96 VAR_97 VAR_98 VAR_101 VAR_103\n",
       "0  27 Más de 25 años      2    0.0      5      5     1.0       0"
      ]
     },
     "execution_count": 23,
     "metadata": {},
     "output_type": "execute_result"
    }
   ],
   "source": [
    "# Se halla la moda (o valor más frecuente) de las features discretas:\n",
    "\n",
    "var_discretas = df_missing_values.columns[df_missing_values.dtypes == object]\n",
    "\n",
    "A_cat.loc[:,var_discretas].mode()"
   ]
  },
  {
   "cell_type": "markdown",
   "metadata": {},
   "source": [
    "Con la moda, se crea un diccionario y se imputan los missing values de las variables discretas mediante la función `fillna()`:"
   ]
  },
  {
   "cell_type": "code",
   "execution_count": 24,
   "metadata": {},
   "outputs": [],
   "source": [
    "dict_var_disc = A_cat.loc[:,var_discretas].mode().T.to_dict()[0]\n",
    "\n",
    "A_cat.loc[:,var_discretas] = A_cat.loc[:,var_discretas].fillna(value=dict_var_disc)"
   ]
  },
  {
   "cell_type": "code",
   "execution_count": 25,
   "metadata": {},
   "outputs": [
    {
     "data": {
      "text/html": [
       "<div>\n",
       "<style scoped>\n",
       "    .dataframe tbody tr th:only-of-type {\n",
       "        vertical-align: middle;\n",
       "    }\n",
       "\n",
       "    .dataframe tbody tr th {\n",
       "        vertical-align: top;\n",
       "    }\n",
       "\n",
       "    .dataframe thead th {\n",
       "        text-align: right;\n",
       "    }\n",
       "</style>\n",
       "<table border=\"1\" class=\"dataframe\">\n",
       "  <thead>\n",
       "    <tr style=\"text-align: right;\">\n",
       "      <th></th>\n",
       "      <th>VAR_07</th>\n",
       "      <th>VAR_99</th>\n",
       "      <th>VAR_100</th>\n",
       "      <th>VAR_102</th>\n",
       "      <th>VAR_104</th>\n",
       "      <th>VAR_105</th>\n",
       "    </tr>\n",
       "  </thead>\n",
       "  <tbody>\n",
       "    <tr>\n",
       "      <th>58733</th>\n",
       "      <td>6.0</td>\n",
       "      <td>1560.0</td>\n",
       "      <td>112.0</td>\n",
       "      <td>124.0</td>\n",
       "      <td>24100.0</td>\n",
       "      <td>28.0</td>\n",
       "    </tr>\n",
       "    <tr>\n",
       "      <th>23027</th>\n",
       "      <td>13.0</td>\n",
       "      <td>1997.0</td>\n",
       "      <td>180.0</td>\n",
       "      <td>200.0</td>\n",
       "      <td>23550.0</td>\n",
       "      <td>28.0</td>\n",
       "    </tr>\n",
       "  </tbody>\n",
       "</table>\n",
       "</div>"
      ],
      "text/plain": [
       "       VAR_07  VAR_99  VAR_100  VAR_102  VAR_104  VAR_105\n",
       "58733     6.0  1560.0    112.0    124.0  24100.0     28.0\n",
       "23027    13.0  1997.0    180.0    200.0  23550.0     28.0"
      ]
     },
     "execution_count": 25,
     "metadata": {},
     "output_type": "execute_result"
    }
   ],
   "source": [
    "# Se seleccionan aquellas features de tipo continuo:\n",
    "\n",
    "df_missing_values_cont = df_missing_values.loc[:,(df_missing_values.columns[df_missing_values.dtypes != object])]\n",
    "df_missing_values_cont.sample(2)"
   ]
  },
  {
   "cell_type": "code",
   "execution_count": 26,
   "metadata": {},
   "outputs": [],
   "source": [
    "var_continuas = df_missing_values.columns[df_missing_values.dtypes != object]"
   ]
  },
  {
   "cell_type": "code",
   "execution_count": 27,
   "metadata": {},
   "outputs": [],
   "source": [
    "A_cat.loc[:,var_continuas] = A_cat.loc[:,var_continuas].fillna(method='ffill')"
   ]
  },
  {
   "cell_type": "code",
   "execution_count": 28,
   "metadata": {},
   "outputs": [
    {
     "data": {
      "text/plain": [
       "(105179, 106)"
      ]
     },
     "execution_count": 28,
     "metadata": {},
     "output_type": "execute_result"
    }
   ],
   "source": [
    "A_cat.shape"
   ]
  },
  {
   "cell_type": "code",
   "execution_count": 29,
   "metadata": {},
   "outputs": [
    {
     "name": "stdout",
     "output_type": "stream",
     "text": [
      "(105179, 106)\n",
      "(106,)\n"
     ]
    }
   ],
   "source": [
    "# Se comprueba que ya no hay missing values:\n",
    "\n",
    "print(A_cat.shape);\n",
    "\n",
    "print(A_cat.isnull().sum().shape);"
   ]
  },
  {
   "cell_type": "markdown",
   "metadata": {},
   "source": [
    "## 3. Análisis de variables:"
   ]
  },
  {
   "cell_type": "markdown",
   "metadata": {},
   "source": [
    "###  A) Numéricas:"
   ]
  },
  {
   "cell_type": "code",
   "execution_count": 36,
   "metadata": {},
   "outputs": [
    {
     "data": {
      "text/html": [
       "<div>\n",
       "<style scoped>\n",
       "    .dataframe tbody tr th:only-of-type {\n",
       "        vertical-align: middle;\n",
       "    }\n",
       "\n",
       "    .dataframe tbody tr th {\n",
       "        vertical-align: top;\n",
       "    }\n",
       "\n",
       "    .dataframe thead th {\n",
       "        text-align: right;\n",
       "    }\n",
       "</style>\n",
       "<table border=\"1\" class=\"dataframe\">\n",
       "  <thead>\n",
       "    <tr style=\"text-align: right;\">\n",
       "      <th></th>\n",
       "      <th>VAR_07</th>\n",
       "      <th>VAR_99</th>\n",
       "      <th>VAR_100</th>\n",
       "      <th>VAR_102</th>\n",
       "      <th>VAR_104</th>\n",
       "      <th>VAR_105</th>\n",
       "      <th>VAR_106</th>\n",
       "    </tr>\n",
       "  </thead>\n",
       "  <tbody>\n",
       "    <tr>\n",
       "      <th>count</th>\n",
       "      <td>105179.000000</td>\n",
       "      <td>105179.000000</td>\n",
       "      <td>105179.000000</td>\n",
       "      <td>105179.000000</td>\n",
       "      <td>105179.000000</td>\n",
       "      <td>105179.000000</td>\n",
       "      <td>105179.000000</td>\n",
       "    </tr>\n",
       "    <tr>\n",
       "      <th>mean</th>\n",
       "      <td>8.299841</td>\n",
       "      <td>1716.865420</td>\n",
       "      <td>119.266517</td>\n",
       "      <td>90.146550</td>\n",
       "      <td>23655.928911</td>\n",
       "      <td>18.573888</td>\n",
       "      <td>40.517936</td>\n",
       "    </tr>\n",
       "    <tr>\n",
       "      <th>std</th>\n",
       "      <td>7.019539</td>\n",
       "      <td>481.424985</td>\n",
       "      <td>44.862607</td>\n",
       "      <td>65.717932</td>\n",
       "      <td>11913.599490</td>\n",
       "      <td>43.879541</td>\n",
       "      <td>11.596211</td>\n",
       "    </tr>\n",
       "    <tr>\n",
       "      <th>min</th>\n",
       "      <td>0.000000</td>\n",
       "      <td>0.000000</td>\n",
       "      <td>23.000000</td>\n",
       "      <td>0.000000</td>\n",
       "      <td>2404.050000</td>\n",
       "      <td>0.000000</td>\n",
       "      <td>17.000000</td>\n",
       "    </tr>\n",
       "    <tr>\n",
       "      <th>25%</th>\n",
       "      <td>1.000000</td>\n",
       "      <td>1399.000000</td>\n",
       "      <td>90.000000</td>\n",
       "      <td>0.000000</td>\n",
       "      <td>16475.000000</td>\n",
       "      <td>0.000000</td>\n",
       "      <td>32.000000</td>\n",
       "    </tr>\n",
       "    <tr>\n",
       "      <th>50%</th>\n",
       "      <td>8.000000</td>\n",
       "      <td>1598.000000</td>\n",
       "      <td>110.000000</td>\n",
       "      <td>113.000000</td>\n",
       "      <td>21585.000000</td>\n",
       "      <td>0.000000</td>\n",
       "      <td>39.000000</td>\n",
       "    </tr>\n",
       "    <tr>\n",
       "      <th>75%</th>\n",
       "      <td>13.000000</td>\n",
       "      <td>1968.000000</td>\n",
       "      <td>137.000000</td>\n",
       "      <td>135.000000</td>\n",
       "      <td>27592.470000</td>\n",
       "      <td>28.000000</td>\n",
       "      <td>48.000000</td>\n",
       "    </tr>\n",
       "    <tr>\n",
       "      <th>max</th>\n",
       "      <td>102.000000</td>\n",
       "      <td>7237.000000</td>\n",
       "      <td>700.000000</td>\n",
       "      <td>420.000000</td>\n",
       "      <td>298204.000000</td>\n",
       "      <td>374.000000</td>\n",
       "      <td>100.000000</td>\n",
       "    </tr>\n",
       "  </tbody>\n",
       "</table>\n",
       "</div>"
      ],
      "text/plain": [
       "              VAR_07         VAR_99        VAR_100        VAR_102  \\\n",
       "count  105179.000000  105179.000000  105179.000000  105179.000000   \n",
       "mean        8.299841    1716.865420     119.266517      90.146550   \n",
       "std         7.019539     481.424985      44.862607      65.717932   \n",
       "min         0.000000       0.000000      23.000000       0.000000   \n",
       "25%         1.000000    1399.000000      90.000000       0.000000   \n",
       "50%         8.000000    1598.000000     110.000000     113.000000   \n",
       "75%        13.000000    1968.000000     137.000000     135.000000   \n",
       "max       102.000000    7237.000000     700.000000     420.000000   \n",
       "\n",
       "             VAR_104        VAR_105        VAR_106  \n",
       "count  105179.000000  105179.000000  105179.000000  \n",
       "mean    23655.928911      18.573888      40.517936  \n",
       "std     11913.599490      43.879541      11.596211  \n",
       "min      2404.050000       0.000000      17.000000  \n",
       "25%     16475.000000       0.000000      32.000000  \n",
       "50%     21585.000000       0.000000      39.000000  \n",
       "75%     27592.470000      28.000000      48.000000  \n",
       "max    298204.000000     374.000000     100.000000  "
      ]
     },
     "execution_count": 36,
     "metadata": {},
     "output_type": "execute_result"
    }
   ],
   "source": [
    "A_cat.describe()"
   ]
  },
  {
   "cell_type": "code",
   "execution_count": 37,
   "metadata": {},
   "outputs": [],
   "source": [
    "# Función para crear boxplots con Seaborn:\n",
    "\n",
    "def bxp (x):\n",
    "    return sns.boxplot(data=A_cat[x]);"
   ]
  },
  {
   "cell_type": "markdown",
   "metadata": {},
   "source": [
    "#### VAR_07:\n",
    "\n",
    "Se dibuja el boxplot para observar la distribución de los valores de la variable VAR_07.\n",
    "\n",
    "Esta variable puede tener valor 0, pero no parece posible que tenga un valor máximo de 102 años. "
   ]
  },
  {
   "cell_type": "code",
   "execution_count": 38,
   "metadata": {},
   "outputs": [
    {
     "data": {
      "image/png": "[encoded data removed]",
      "text/plain": [
       "<Figure size 432x288 with 1 Axes>"
      ]
     },
     "metadata": {
      "needs_background": "light"
     },
     "output_type": "display_data"
    }
   ],
   "source": [
    "# Se dibuja el boxplot para ver la distribución de los valores:\n",
    "\n",
    "bxp('VAR_07');"
   ]
  },
  {
   "cell_type": "code",
   "execution_count": 39,
   "metadata": {},
   "outputs": [
    {
     "name": "stdout",
     "output_type": "stream",
     "text": [
      "0.10553437473259872\n"
     ]
    }
   ],
   "source": [
    "# Se observa el peso de los registros de la variable cuyos valores superiores a 40:\n",
    "\n",
    "print((A_cat.loc[(A_cat['VAR_07']>40),'VAR_07'].count() / A_cat.shape[0]) * 100)"
   ]
  },
  {
   "cell_type": "code",
   "execution_count": 40,
   "metadata": {},
   "outputs": [],
   "source": [
    "# Es un 0,10% de los registros, por lo que se opta por eliminarlos:\n",
    "\n",
    "A_cat = A_cat.loc[(A_cat['VAR_07'] <= 40),:]"
   ]
  },
  {
   "cell_type": "markdown",
   "metadata": {},
   "source": [
    "#### VAR_106:\n",
    "\n",
    "Aunque no sea común, esta variable podría tener valores aislados próximos a 100, sin embargo no puede tener un valor menor a 18. "
   ]
  },
  {
   "cell_type": "code",
   "execution_count": 41,
   "metadata": {},
   "outputs": [
    {
     "data": {
      "image/png": "[encoded data removed]",
      "text/plain": [
       "<Figure size 432x288 with 1 Axes>"
      ]
     },
     "metadata": {
      "needs_background": "light"
     },
     "output_type": "display_data"
    }
   ],
   "source": [
    "bxp('VAR_106');"
   ]
  },
  {
   "cell_type": "code",
   "execution_count": 42,
   "metadata": {},
   "outputs": [
    {
     "name": "stdout",
     "output_type": "stream",
     "text": [
      "0.01142117485818708\n"
     ]
    }
   ],
   "source": [
    "# Se observa el peso de los registros de la variable cuyos valores son menores a 0:\n",
    "\n",
    "print((A_cat.loc[(A_cat['VAR_106'] < 18),'VAR_106'].count() / A_cat.shape[0]) * 100)"
   ]
  },
  {
   "cell_type": "code",
   "execution_count": 43,
   "metadata": {},
   "outputs": [],
   "source": [
    "# Estos valores supoenen el 0,012% de los registros:\n",
    "\n",
    "A_cat = A_cat.loc[(A_cat['VAR_106'] != 0),:]"
   ]
  },
  {
   "cell_type": "markdown",
   "metadata": {},
   "source": [
    "#### VAR_100, VAR_102, VAR_104 Y VAR_105 \n",
    "\n",
    "Tienen valores extremos pero están informados correctamente, por lo que se decide conservarlos."
   ]
  },
  {
   "cell_type": "markdown",
   "metadata": {},
   "source": [
    "### B) Categóricas"
   ]
  },
  {
   "cell_type": "markdown",
   "metadata": {},
   "source": [
    "**La siguientes funciónes se crean con el objetivo de estudiar la distribución de frecuencias de cada variable categórica.**\n",
    "\n",
    "- `info_vars()` se crea para analizar los estadísticos básicos de cada variable.\n",
    "- `dist_freq()` elabora para observar la distribución de cada una de ellas.\n",
    "\n",
    "Analizando la información proporcionada por ambas funciones se decidirá la forma de actuar sobre cada variable.\n",
    "\n",
    "A continuación se muestra la lista de variables que se van a analizar:"
   ]
  },
  {
   "cell_type": "code",
   "execution_count": 44,
   "metadata": {},
   "outputs": [],
   "source": [
    "# Se define la lista de variables categóricas que se quieren observar:\n",
    "\n",
    "lista_cat = ['VAR_01', 'VAR_02', 'VAR_03', 'VAR_04', 'VAR_05', 'VAR_06', 'VAR_08', 'VAR_09', 'VAR_10', 'VAR_11', 'VAR_14',\n",
    "             'VAR_15', 'VAR_20', 'VAR_21', 'VAR_23', 'VAR_24', 'VAR_25', 'VAR_26', 'VAR_29', 'VAR_30', 'VAR_31', 'VAR_32',\n",
    "             'VAR_33', 'VAR_34', 'VAR_36', 'VAR_37', 'VAR_38', 'VAR_39', 'VAR_40', 'VAR_41', 'VAR_42', 'VAR_88', 'VAR_89',\n",
    "             'VAR_91', 'VAR_92', 'VAR_93', 'VAR_94', 'VAR_95', 'VAR_96', 'VAR_97', 'VAR_98', 'VAR_101','VAR_103']"
   ]
  },
  {
   "cell_type": "code",
   "execution_count": 45,
   "metadata": {},
   "outputs": [],
   "source": [
    "# Se crea una función que da información básica de las variables categóricas:\n",
    "\n",
    "def info_vars(x):\n",
    "    \n",
    "    print('Información de: ' + A_cat[x].name)\n",
    "    print('Nº de registros: ' + str(A_cat[x].count()))\n",
    "    print('Registros únicos: ' + str(A_cat[x].nunique()))\n",
    "    print('Moda: ' + str(A_cat[x].mode().to_dict()[0]))\n",
    "    print('Frecuencia de la moda: ' + str(int(round((A_cat.loc[(A_cat[x] == A_cat[x].mode().to_dict()[0]), x].count())\\\n",
    "                                        /(A_cat[x].count())*100))) + str('%'))\n",
    "    print('Frecuencia media de los registros únicos (excepto la moda): ' + str(int(round((((A_cat[x].count())-\\\n",
    "                                                          (A_cat.loc[(A_cat[x] == A_cat[x].mode().to_dict()[0]), x]\\\n",
    "                                                          .count()))/A_cat[x].nunique())\\\n",
    "                                                          /(A_cat[x].count())*100))) + str('%'))\n",
    "    print('\\n')"
   ]
  },
  {
   "cell_type": "code",
   "execution_count": 46,
   "metadata": {},
   "outputs": [],
   "source": [
    "# Se crea una función para observar la distribución de frecuencias:\n",
    "\n",
    "def dist_freq(x):\n",
    "    var_count = A_cat[x].value_counts()\n",
    "    sns.set(style=\"darkgrid\")\n",
    "    sns.barplot(var_count.index, var_count.values, alpha=0.9)\n",
    "    plt.title('Distribución de frecuencias {}'.format(x))\n",
    "    plt.ylabel('Ocurrencias', fontsize=12)\n",
    "    plt.xlabel('', fontsize=12)\n",
    "    plt.xticks(fontsize=10, rotation='vertical')\n",
    "    plt.figure(figsize=(12, 8))\n",
    "    return plt.show()"
   ]
  },
  {
   "cell_type": "code",
   "execution_count": 47,
   "metadata": {},
   "outputs": [],
   "source": [
    "# Se crea una función que va generando la información básica de cada variable de la lista:\n",
    "\n",
    "def get_dist_cat():\n",
    "    for var in lista_cat:\n",
    "        yield info_vars(var)\n",
    "\n",
    "gen_dist_cat = get_dist_cat()"
   ]
  },
  {
   "cell_type": "code",
   "execution_count": 48,
   "metadata": {},
   "outputs": [],
   "source": [
    "# Se crea una función que va generando la distribución de frecuencias de cada variable de la lista:\n",
    "\n",
    "def get_plot_cat():\n",
    "    for var in lista_cat:\n",
    "        yield dist_freq(var)\n",
    "\n",
    "gen_plot_cat = get_plot_cat()"
   ]
  },
  {
   "cell_type": "code",
   "execution_count": 49,
   "metadata": {},
   "outputs": [
    {
     "name": "stdout",
     "output_type": "stream",
     "text": [
      "Información de: VAR_01\n",
      "Nº de registros: 105068\n",
      "Registros únicos: 5\n",
      "Moda: 3\n",
      "Frecuencia de la moda: 53%\n",
      "Frecuencia media de los registros únicos (excepto la moda): 9%\n",
      "\n",
      "\n"
     ]
    },
    {
     "data": {
      "image/png": "[encoded data removed]",
      "text/plain": [
       "<Figure size 432x288 with 1 Axes>"
      ]
     },
     "metadata": {},
     "output_type": "display_data"
    },
    {
     "data": {
      "text/plain": [
       "<Figure size 864x576 with 0 Axes>"
      ]
     },
     "metadata": {},
     "output_type": "display_data"
    }
   ],
   "source": [
    "# Ejecutar para graficar la siguiente variable:\n",
    "\n",
    "next(gen_dist_cat);next(gen_plot_cat)"
   ]
  },
  {
   "cell_type": "code",
   "execution_count": null,
   "metadata": {},
   "outputs": [],
   "source": []
  },
  {
   "cell_type": "code",
   "execution_count": null,
   "metadata": {},
   "outputs": [],
   "source": []
  },
  {
   "cell_type": "code",
   "execution_count": null,
   "metadata": {},
   "outputs": [],
   "source": []
  },
  {
   "cell_type": "code",
   "execution_count": null,
   "metadata": {},
   "outputs": [],
   "source": []
  },
  {
   "cell_type": "code",
   "execution_count": null,
   "metadata": {},
   "outputs": [],
   "source": []
  },
  {
   "cell_type": "code",
   "execution_count": null,
   "metadata": {},
   "outputs": [],
   "source": []
  },
  {
   "cell_type": "code",
   "execution_count": null,
   "metadata": {},
   "outputs": [],
   "source": []
  },
  {
   "cell_type": "code",
   "execution_count": null,
   "metadata": {},
   "outputs": [],
   "source": []
  },
  {
   "cell_type": "code",
   "execution_count": null,
   "metadata": {},
   "outputs": [],
   "source": []
  }
 ],
 "metadata": {
  "kernelspec": {
   "display_name": "Python 3",
   "language": "python",
   "name": "python3"
  },
  "language_info": {
   "codemirror_mode": {
    "name": "ipython",
    "version": 3
   },
   "file_extension": ".py",
   "mimetype": "text/x-python",
   "name": "python",
   "nbconvert_exporter": "python",
   "pygments_lexer": "ipython3",
   "version": "3.6.8"
  }
 },
 "nbformat": 4,
 "nbformat_minor": 2
}
